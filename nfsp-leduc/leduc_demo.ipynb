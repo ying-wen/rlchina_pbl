{
 "cells": [
  {
   "cell_type": "code",
   "execution_count": null,
   "metadata": {},
   "outputs": [],
   "source": [
    "import rlcard\n",
    "from rlcard import models\n",
    "from rlcard.agents import LeducholdemHumanAgent as HumanAgent\n",
    "from rlcard.utils import print_card\n",
    "\n",
    "# Make environment\n",
    "env = rlcard.make('leduc-holdem')\n",
    "human_agent = HumanAgent(env.num_actions)\n",
    "agent = models.load('leduc-holdem-cfr').agents[0]\n",
    "env.set_agents([\n",
    "    human_agent,\n",
    "    agent,\n",
    "])\n",
    "\n",
    "print(\">> Leduc Hold'em pre-trained model\")\n",
    "\n",
    "while (True):\n",
    "    print(\">> Start a new game\")\n",
    "\n",
    "    trajectories, payoffs = env.run(is_training=False)\n",
    "    # If the human does not take the final action, we need to\n",
    "    # print other players action\n",
    "    final_state = trajectories[0][-1]\n",
    "    action_record = final_state['action_record']\n",
    "    state = final_state['raw_obs']\n",
    "    _action_list = []\n",
    "    for i in range(1, len(action_record)+1):\n",
    "        if action_record[-i][0] == state['current_player']:\n",
    "            break\n",
    "        _action_list.insert(0, action_record[-i])\n",
    "    for pair in _action_list:\n",
    "        print('>> Player', pair[0], 'chooses', pair[1])\n",
    "\n",
    "    # Let's take a look at what the agent card is\n",
    "    print('===============     CFR Agent    ===============')\n",
    "    print_card(env.get_perfect_information()['hand_cards'][1])\n",
    "\n",
    "    print('===============     Result     ===============')\n",
    "    if payoffs[0] > 0:\n",
    "        print('You win {} chips!'.format(payoffs[0]))\n",
    "    elif payoffs[0] == 0:\n",
    "        print('It is a tie.')\n",
    "    else:\n",
    "        print('You lose {} chips!'.format(-payoffs[0]))\n",
    "    print('')\n",
    "\n",
    "    input(\"Press any key to continue...\")"
   ]
  },
  {
   "cell_type": "code",
   "execution_count": null,
   "metadata": {},
   "outputs": [],
   "source": []
  }
 ],
 "metadata": {
  "kernelspec": {
   "display_name": "Python 3 (ipykernel)",
   "language": "python",
   "name": "python3"
  },
  "language_info": {
   "codemirror_mode": {
    "name": "ipython",
    "version": 3
   },
   "file_extension": ".py",
   "mimetype": "text/x-python",
   "name": "python",
   "nbconvert_exporter": "python",
   "pygments_lexer": "ipython3",
   "version": "3.8.13"
  },
  "vscode": {
   "interpreter": {
    "hash": "64aa2f8c5ebe48bbebe3ae56eb4bb3101808594cbdf1a3a324eb84c2672c49d3"
   }
  }
 },
 "nbformat": 4,
 "nbformat_minor": 4
}
